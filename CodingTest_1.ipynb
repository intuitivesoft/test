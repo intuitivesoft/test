{
 "cells": [
  {
   "cell_type": "code",
   "execution_count": 14,
   "metadata": {
    "collapsed": false
   },
   "outputs": [],
   "source": [
    "import numpy as np\n",
    "from datetime import datetime\n",
    "\n",
    "def next_run_time(config_file, run_time):\n",
    "    \n",
    "    dat = [np.array(line.split(' ')) for line in open(config_file)] \n",
    "    mm = [l[0] for l in dat]\n",
    "    hh = [l[1] for l in dat]\n",
    "    cmd = [l[2].rstrip() for l in dat] \n",
    "    \n",
    "    run_time_strip = run_time.split(':')\n",
    "    \n",
    "    next_run = []\n",
    "    for i in range(len(dat)):\n",
    "        if(hh[i] == \"*\" and mm[i] == '*'):#runs every minute, every hour\n",
    "            next_run.append( run_time_strip[0] + \":\" +  run_time_strip[1] + \" today \" + cmd[i] )\n",
    "        elif(hh[i] == \"*\"): #runs every hour at a certain time\n",
    "            ref_time = run_time_strip[0] + \":\" + mm[i]\n",
    "            next_run.append(every_hr_job(ref_time, run_time, mm[i], cmd[i]))\n",
    "        elif(mm[i] == \"*\"): #runs every minute of a given hour\n",
    "            ref_time = hh[i] + \":\" + \"00\"\n",
    "            next_run.append(fixed_hr_job(ref_time, run_time, hh[i], cmd[i]))\n",
    "        else:\n",
    "            ref_time = hh[i] + \":\" + mm[i]\n",
    "            next_run.append(fixed_time_job(ref_time, run_time, cmd[i]))\n",
    "    return next_run\n",
    "\n",
    "#cron job runs at fixed time every day\n",
    "def fixed_time_job(ref_time, run_time, cmd):\n",
    "    \n",
    "    tsecs = time_diff(ref_time, run_time)\n",
    "    tsecs = time_diff(ref_time, run_time)\n",
    "    \n",
    "    next_run =''\n",
    "    if(tsecs <= 0): #before run hour\n",
    "        next_run = ref_time + \" today \" + cmd\n",
    "    else: #runs tomorrow\n",
    "         next_run = ref_time + \" tomorrow \" + cmd\n",
    "    return next_run\n",
    "\n",
    "#job runs at a fixed hour every day, throughout the hour\n",
    "def fixed_hr_job(ref_time, run_time, hh, cmd):\n",
    "    \n",
    "    tsecs_l = time_diff(ref_time, run_time)\n",
    "    new_hr = int(hh) + 1\n",
    "    ref_time_upper = str(new_hr) + \":\" + \"00\"\n",
    "    tsecs_h = time_diff(ref_time_upper, run_time)\n",
    "    \n",
    "    next_run =''\n",
    "    if(tsecs_l <= 0): #before run hour\n",
    "        next_run = ref_time + \" today \" + cmd\n",
    "    elif (tsecs_h >= 0): #after run hour\n",
    "        next_run = ref_time + \" tomorrow \" + cmd\n",
    "    else: #runs now\n",
    "         next_run = ref_time.split(':')[0] + \":\" + run_time.split(':')[1] + \" today \" + cmd\n",
    "    return next_run\n",
    "\n",
    "#job runs every hour of the day but only at a certain time (in mins) \n",
    "def every_hr_job(ref_time, run_time, mm, cmd):\n",
    "    \n",
    "    tsecs = time_diff(ref_time, run_time)\n",
    "    next_run =''\n",
    "    if(tsecs <= 0): #in current hr\n",
    "        next_run = ref_time + \" today \" + cmd\n",
    "    else: #next hour\n",
    "        new_hr = int(run_time.split(':')[0]) + 1\n",
    "        if(new_hr == 24): #rollover to next day: assuming times are system generated so no scope for human error in input\n",
    "            new_time = '00' + ':' + mm\n",
    "            next_run = new_time + \" tomorrow \" + cmd\n",
    "        else: #(new_hr < 24):\n",
    "            new_time = str(new_hr) + ':' + mm\n",
    "            next_run = new_time + \" today \" + cmd \n",
    "#         else: #error\n",
    "#             next_run = \"error specifying time\"\n",
    "    return next_run\n"
   ]
  },
  {
   "cell_type": "code",
   "execution_count": 15,
   "metadata": {
    "collapsed": true
   },
   "outputs": [],
   "source": [
    "def time_diff(cron_time, run_time): #to include error trapping for >24h time\n",
    "    FMT = '%H:%M:%S'\n",
    "    cron_time += ':00'\n",
    "    run_time += ':00'\n",
    "    tdelta = datetime.strptime(run_time, FMT) - datetime.strptime(cron_time, FMT)\n",
    "    return (tdelta.total_seconds() //60)"
   ]
  },
  {
   "cell_type": "code",
   "execution_count": 16,
   "metadata": {
    "collapsed": false
   },
   "outputs": [
    {
     "data": {
      "text/plain": [
       "['1:30 tomorrow /bin/run_me_daily',\n",
       " '12:45 today /bin/run_me_hourly',\n",
       " '12:10 today /bin/run_me_every_minute',\n",
       " '19:00 today /bin/run_me_sixty_times']"
      ]
     },
     "execution_count": 16,
     "metadata": {},
     "output_type": "execute_result"
    }
   ],
   "source": [
    "config_file = \"1_config.txt\"\n",
    "run_time = \"12:10\"\n",
    "nxt_run = next_run_time(config_file, run_time)\n",
    "nxt_run"
   ]
  },
  {
   "cell_type": "code",
   "execution_count": null,
   "metadata": {
    "collapsed": true
   },
   "outputs": [],
   "source": [
    "\n",
    "        "
   ]
  }
 ],
 "metadata": {
  "anaconda-cloud": {},
  "kernelspec": {
   "display_name": "Python [default]",
   "language": "python",
   "name": "python3"
  },
  "language_info": {
   "codemirror_mode": {
    "name": "ipython",
    "version": 3
   },
   "file_extension": ".py",
   "mimetype": "text/x-python",
   "name": "python",
   "nbconvert_exporter": "python",
   "pygments_lexer": "ipython3",
   "version": "3.5.2"
  }
 },
 "nbformat": 4,
 "nbformat_minor": 1
}
